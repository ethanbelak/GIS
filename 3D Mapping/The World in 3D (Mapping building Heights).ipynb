{
  "nbformat": 4,
  "nbformat_minor": 0,
  "metadata": {
    "colab": {
      "provenance": []
    },
    "kernelspec": {
      "name": "python3",
      "display_name": "Python 3"
    },
    "language_info": {
      "name": "python"
    }
  },
  "cells": [
    {
      "cell_type": "markdown",
      "source": [
        "# **The World in 3D**"
      ],
      "metadata": {
        "id": "C0ymCPR5aSHN"
      }
    },
    {
      "cell_type": "markdown",
      "source": [
        "🚀 Created by Ethan Belak\n",
        "\n",
        "11/11/2024"
      ],
      "metadata": {
        "id": "Pt_OREXFPvkr"
      }
    },
    {
      "cell_type": "markdown",
      "source": [
        "## **Get ready to start**\n",
        "\n",
        "- Click **`File/Save a copy in Drive`** to save a copy of this notebook to my own Google Drive"
      ],
      "metadata": {
        "id": "CMQN_pgaHVLO"
      }
    },
    {
      "cell_type": "markdown",
      "source": [
        "## **Steps To Buildings**\n",
        "1. Import building models, they will appear in 2D at this stage\n",
        "2. Press insert new map, followed by local scene\n",
        "3. Go to edit an choose modify\n",
        "4. Choose multipatch texture and select the building to be edited\n",
        "5. Choose a builiding side and click insert to choose your own image\n",
        "6. Align the image and press apply"
      ],
      "metadata": {
        "id": "3A04rwcUO_Eu"
      }
    },
    {
      "cell_type": "markdown",
      "source": [
        "## **Building Information**"
      ],
      "metadata": {
        "id": "ZEIu23TwTMJC"
      }
    },
    {
      "cell_type": "markdown",
      "source": [
        "| Building Block | Lot Number  | Building Number | Height | Floors |\n",
        "| --------- | -------------|----|--------- |-------|\n",
        "| 203 | 9 | N/A | 27.39 ft | 1|\n",
        "| 203 | 10 | N/A |27.03 ft | 1 |\n",
        "| 205 | 1 | N/A | 34.29ft | 2|\n"
      ],
      "metadata": {
        "id": "GR6Zg2fcQpIC"
      }
    },
    {
      "cell_type": "markdown",
      "source": [
        "## **Part 1: Building 203_9**"
      ],
      "metadata": {
        "id": "knQezaT0XILw"
      }
    },
    {
      "cell_type": "markdown",
      "source": [
        "```markdown\n",
        "https://drive.google.com/file/d/1rHXkRGlggGRM14uk_nHp1T8b5UOqVXrN/view?usp=sharing\n",
        "```\n",
        "\n",
        "- After finishing the two steps below, a link can be created to correctly rendered in Google Colab\n",
        "  - Deleted **`/view?usp=sharing`** at the end of the link\n",
        "  - Replaced **`/file/d/`** with **`/uc?export=view&id=`**\n",
        "\n",
        "```markdown\n",
        "https://drive.google.com/uc?export=view&id=1rHXkRGlggGRM14uk_nHp1T8b5UOqVXrN\n",
        "```\n",
        "\n",
        "- The map can be inserted in Google Colab following the syntax [from here](https://www.markdownguide.org/cheat-sheet/)\n",
        "\n",
        "```markdown\n",
        "Insert the map here using syntax:\n",
        "![Building 203_9] https://drive.google.com/uc?export=view&id=1rHXkRGlggGRM14uk_nHp1T8b5UOqVXrN\n",
        "```\n",
        "\n",
        "![building 203_9](https://drive.google.com/uc?export=view&id=1rHXkRGlggGRM14uk_nHp1T8b5UOqVXrN)"
      ],
      "metadata": {
        "id": "pEt8eG3wXiio"
      }
    },
    {
      "cell_type": "markdown",
      "source": [
        "## **Part 2: Building 203_10**"
      ],
      "metadata": {
        "id": "zNWPkAxUXnEt"
      }
    },
    {
      "cell_type": "markdown",
      "source": [
        "```markdown\n",
        "https://drive.google.com/file/d/1qs8tQVGMISsu1XcNaV-1bvy_VWGn95QT/view?usp=sharing\n",
        "```\n",
        "\n",
        "- After finishing the two steps below, a link can be created to correctly rendered in Google Colab\n",
        "  - Deleted **`/view?usp=sharing`** at the end of the link\n",
        "  - Replaced **`/file/d/`** with **`/uc?export=view&id=`**\n",
        "\n",
        "```markdown\n",
        "https://drive.google.com/uc?export=view&id=1qs8tQVGMISsu1XcNaV-1bvy_VWGn95QT\n",
        "```\n",
        "\n",
        "- The map can be inserted in Google Colab following the syntax [from here](https://www.markdownguide.org/cheat-sheet/)\n",
        "\n",
        "```markdown\n",
        "Insert the map here using syntax:\n",
        "![Building 203_1](https://drive.google.com/uc?export=view&id=1qs8tQVGMISsu1XcNaV-1bvy_VWGn95QT)\n",
        "```\n",
        "\n",
        "![Building 203_10](https://drive.google.com/uc?export=view&id=1qs8tQVGMISsu1XcNaV-1bvy_VWGn95QT)"
      ],
      "metadata": {
        "id": "CTzTj_VIWrDj"
      }
    },
    {
      "cell_type": "markdown",
      "source": [
        "## **Part 3: Building 205_1**"
      ],
      "metadata": {
        "id": "Xy1iTFLrp0JH"
      }
    },
    {
      "cell_type": "markdown",
      "source": [
        "```markdown\n",
        "https://drive.google.com/file/d/1eTAdsci9iOVFGNaUymV3oV0yQmuXn876/view?usp=sharing\n",
        "```\n",
        "\n",
        "- After finishing the two steps below, a link can be created to correctly rendered in Google Colab\n",
        "  - Deleted **`/view?usp=sharing`** at the end of the link\n",
        "  - Replaced **`/file/d/`** with **`/uc?export=view&id=`**\n",
        "\n",
        "```markdown\n",
        "https://drive.google.com/uc?export=view&id=1eTAdsci9iOVFGNaUymV3oV0yQmuXn876\n",
        "```\n",
        "\n",
        "- The map can be inserted in Google Colab following the syntax [from here](https://www.markdownguide.org/cheat-sheet/)\n",
        "\n",
        "```markdown\n",
        "Insert the map here using syntax:\n",
        "![Building 205_1](https://drive.google.com/uc?export=view&id=1eTAdsci9iOVFGNaUymV3oV0yQmuXn876)\n",
        "```\n",
        "\n",
        "![Building 205_1](https://drive.google.com/uc?export=view&id=1eTAdsci9iOVFGNaUymV3oV0yQmuXn876)"
      ],
      "metadata": {
        "id": "xn1jvijPqI37"
      }
    },
    {
      "cell_type": "markdown",
      "source": [
        "## **Part 4: All Buildings**"
      ],
      "metadata": {
        "id": "inmfLDxXN2If"
      }
    },
    {
      "cell_type": "markdown",
      "source": [
        "```markdown\n",
        "https://drive.google.com/file/d/1OD_M5taT8bPpFfKFvFCt4T4SRNcQ1nKs/view?usp=sharing\n",
        "```\n",
        "\n",
        "- After finishing the two steps below, a link can be created to correctly rendered in Google Colab\n",
        "  - Deleted **`/view?usp=sharing`** at the end of the link\n",
        "  - Replaced **`/file/d/`** with **`/uc?export=view&id=`**\n",
        "\n",
        "```markdown\n",
        "https://drive.google.com/uc?export=view&id=1OD_M5taT8bPpFfKFvFCt4T4SRNcQ1nKs\n",
        "```\n",
        "\n",
        "- The map can be inserted in Google Colab following the syntax [from here](https://www.markdownguide.org/cheat-sheet/)\n",
        "\n",
        "```markdown\n",
        "Insert the map here using syntax:\n",
        "![Building 205_1](https://drive.google.com/uc?export=view&id=1OD_M5taT8bPpFfKFvFCt4T4SRNcQ1nKs)\n",
        "```\n",
        "\n",
        "![All Buildings](https://drive.google.com/uc?export=view&id=1OD_M5taT8bPpFfKFvFCt4T4SRNcQ1nKs)"
      ],
      "metadata": {
        "id": "o9m-i6YoN78Y"
      }
    },
    {
      "cell_type": "markdown",
      "source": [
        "## **Save and share this notebook**\n",
        "\n",
        "- **Save the final version of this notebook and submit the link**\n",
        "\n"
      ],
      "metadata": {
        "id": "kkgukjDcXsqC"
      }
    },
    {
      "cell_type": "markdown",
      "source": [
        "## **Reference**\n",
        "\n",
        "- [Markdown cheat sheet](https://www.markdownguide.org/cheat-sheet/)"
      ],
      "metadata": {
        "id": "fvMbEX89YLeY"
      }
    }
  ]
}