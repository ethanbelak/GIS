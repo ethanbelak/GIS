{
  "nbformat": 4,
  "nbformat_minor": 0,
  "metadata": {
    "colab": {
      "provenance": []
    },
    "kernelspec": {
      "name": "python3",
      "display_name": "Python 3"
    },
    "language_info": {
      "name": "python"
    }
  },
  "cells": [
    {
      "cell_type": "markdown",
      "source": [
        "# **GEO 441B/541B Geographic Information Systems**\n",
        "\n",
        "Ethan Belak\n",
        "\n",
        "## Overview\n",
        "- This repository contains Google Colab Notebooks prepared for GEO 441/541 @Miami University\n",
        "- Students can build a repository like this as their project portfolio\n",
        "\n",
        "## 3D Mapping\n",
        "- The World in 3D: Spatial 3D mapping of building heights (https://colab.research.google.com/drive/1axUkeQojyrk68iqNQQ-J43sOCPcSCfXq)\n",
        "\n",
        "## Basic Mapping\n",
        "\n",
        "- Mapping Cloquet Forest: A basic map of Cloquet Forest (https://colab.research.google.com/drive/1VUc0e6jD93qYoXRdItlivFoRpEcqdj8h)\n",
        "- Cloquet Vegetation: Cloquet Forest map with addition of vegetation (https://colab.research.google.com/drive/1r-92I-hAKQkd8M9hYkHDG9g7X3_a5CJ0)\n",
        "- Mapping hydrology of St. Croix: Lower St. Croix Watershed map (https://colab.research.google.com/drive/1S7j92IOQGXAnH1_XeFH9LTZ_Ym_FUY8E)\n",
        "\n",
        "## Build Selections and Queries\n",
        "- Spatial Query for US: Map of high population counties w/ high Old/Young ratios (https://colab.research.google.com/drive/1VIocuAPesgnR3jV5XtBjFXAMdBAh8qk6)\n",
        "\n",
        "\n"
      ],
      "metadata": {
        "id": "HkpDtahEOmZD"
      }
    },
    {
      "cell_type": "markdown",
      "source": [
        "## Helpful Files\n",
        "\n",
        "- Understanding BandComposition: Document on near \tinfrared spectra (https://colab.research.google.com/drive/1gpKsiBjD_ryKUk_TeE0GZH9Rtjngt7yq)\n",
        "- Create a GitHub Repository portfolio: Description of how to make a GitHub repository (https://colab.research.google.com/drive/1REu8R6IKYGstmsfjsLZtyNyEeolnJk1B)\n",
        "\n",
        "\n",
        "## Map Coordinates\n",
        "- Minnesota Map Projections: Map of Minnesota Counties on a globe (https://colab.research.google.com/drive/1ZpbiYAlYxSN1fsIunh4CSvL3a6LK10SE)\n",
        "\n",
        "## Spatial Analysis for Raster Data\n",
        "- Mapping US Census Data: School age students and renters on the census tract level for Ohio (https://colab.research.google.com/drive/1BtdqOarTmXltrHsMv9CaOdPf7G8GRMhN)\n",
        "\n",
        "## Spatial Analysis for Vector Data\n",
        "- Cholera and Camp site vector data: Cholera outbreak and potential campgrounds (https://colab.research.google.com/drive/1EgsPv7Z-a4HO3a0z5rnP3jbBekyysHuj#scrollTo=fjCS886Up_cU)\n",
        "\n",
        "## Web Based Mapping\n",
        "- Cholera Application: URL to published Cholera map (https://miamioh.maps.arcgis.com/apps/configure-template/index.html?appid=35ec039ceedd4b3bbabf321d43b6c10c )\n"
      ],
      "metadata": {
        "id": "nTGtQz30QILU"
      }
    }
  ]
}